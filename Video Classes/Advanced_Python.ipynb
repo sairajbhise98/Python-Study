{
  "nbformat": 4,
  "nbformat_minor": 0,
  "metadata": {
    "colab": {
      "name": "Advanced Python.ipynb",
      "provenance": []
    },
    "kernelspec": {
      "name": "python3",
      "display_name": "Python 3"
    },
    "language_info": {
      "name": "python"
    }
  },
  "cells": [
    {
      "cell_type": "code",
      "metadata": {
        "colab": {
          "base_uri": "https://localhost:8080/"
        },
        "id": "cy-k33EYis1J",
        "outputId": "47c1c979-78f2-4381-ab9f-b96a32049da0"
      },
      "source": [
        "# Class and Objects\n",
        "\n",
        "\n",
        "class Person:\n",
        "  # init is constructor\n",
        "  def __init__(self, name, lastName):\n",
        "    self.name = name\n",
        "    self.lastName = lastName\n",
        "\n",
        "  def age(self, year):\n",
        "    return 2021 - year\n",
        "\n",
        "obj = Person('Sairaj', 'Bhise')\n",
        "print(obj.name + ' ', obj.lastName)\n",
        "print(obj.age(1998))\n"
      ],
      "execution_count": null,
      "outputs": [
        {
          "output_type": "stream",
          "text": [
            "Sairaj  Bhise\n",
            "23\n"
          ],
          "name": "stdout"
        }
      ]
    },
    {
      "cell_type": "code",
      "metadata": {
        "colab": {
          "base_uri": "https://localhost:8080/"
        },
        "id": "839AE7lgo0sF",
        "outputId": "60cb5cc3-c755-4528-a7d1-4669b7d48dba"
      },
      "source": [
        "# Inheritance\n",
        "class A:\n",
        "  def __init__(self):\n",
        "    self.msg = 'Hii this is parent of B'\n",
        "\n",
        "  def pp(self):\n",
        "    print(self.msg)\n",
        "\n",
        "class B(A):\n",
        "  def PP(self):\n",
        "    self.pp()\n",
        "\n",
        "\n",
        "obj1 = B()\n",
        "obj1.PP()\n"
      ],
      "execution_count": null,
      "outputs": [
        {
          "output_type": "stream",
          "text": [
            "Hii this is parent of B\n"
          ],
          "name": "stdout"
        }
      ]
    },
    {
      "cell_type": "code",
      "metadata": {
        "id": "x1BuR2u3p1cg",
        "colab": {
          "base_uri": "https://localhost:8080/"
        },
        "outputId": "f7b44c49-0654-46da-d558-5dcd25fca3a8"
      },
      "source": [
        "# Decorator Revision\n",
        "\n",
        "def decorate(func):\n",
        "  def inner():\n",
        "    print('---------------------------')\n",
        "    func()\n",
        "  return inner()\n",
        "\n",
        "\n",
        "@decorate\n",
        "def hii():\n",
        "  print('Hii')"
      ],
      "execution_count": null,
      "outputs": [
        {
          "output_type": "stream",
          "text": [
            "---------------------------\n",
            "Hii\n"
          ],
          "name": "stdout"
        }
      ]
    },
    {
      "cell_type": "code",
      "metadata": {
        "id": "fRvkPDMBfnQC"
      },
      "source": [
        "# File\n",
        "file1 = open('demo.txt','w') # Creating the file if not present"
      ],
      "execution_count": null,
      "outputs": []
    },
    {
      "cell_type": "code",
      "metadata": {
        "id": "QQVUBIp7h2GA"
      },
      "source": [
        "# File Handling in write mode\n",
        "file1.write('This is first Line\\n')\n",
        "file1.write('This is second line\\n')\n",
        "file1.close()"
      ],
      "execution_count": null,
      "outputs": []
    },
    {
      "cell_type": "code",
      "metadata": {
        "id": "6u_redOvjHrP"
      },
      "source": [
        "# File Handling in read mode\n",
        "file1 = open('demo.txt','r') # Read Mode\n",
        "file1.readlines()\n",
        "file1.close()"
      ],
      "execution_count": null,
      "outputs": []
    },
    {
      "cell_type": "code",
      "metadata": {
        "id": "pBR5LA-6jH28"
      },
      "source": [
        "# File Handling in append mode\n",
        "file1 = open('demo.txt', 'a') # Append Mode\n",
        "file1.write('This is appended\\n')\n",
        "file1.close()"
      ],
      "execution_count": null,
      "outputs": []
    },
    {
      "cell_type": "code",
      "metadata": {
        "id": "2XCLpWzDkbMX"
      },
      "source": [
        ""
      ],
      "execution_count": null,
      "outputs": []
    },
    {
      "cell_type": "code",
      "metadata": {
        "id": "SuNIxMLNkbZF"
      },
      "source": [
        ""
      ],
      "execution_count": null,
      "outputs": []
    },
    {
      "cell_type": "code",
      "metadata": {
        "colab": {
          "base_uri": "https://localhost:8080/"
        },
        "id": "fnl0e9STgTkO",
        "outputId": "76389826-23e3-4e90-d19f-70fdd7355eff"
      },
      "source": [
        "# List Comprehension\n",
        "\n",
        "l1 = [1,2,3,4,5,6,7,8,9,10]\n",
        "\n",
        "l2 = [x for x in l1] # Deep clone\n",
        "print(l2)\n",
        "\n",
        "print({x: x*x if x%2 == 0 else x for x in l1}) # Dictionary"
      ],
      "execution_count": null,
      "outputs": [
        {
          "output_type": "stream",
          "text": [
            "[1, 2, 3, 4, 5, 6, 7, 8, 9, 10]\n",
            "{1: 1, 2: 4, 3: 3, 4: 16, 5: 5, 6: 36, 7: 7, 8: 64, 9: 9, 10: 100}\n"
          ],
          "name": "stdout"
        }
      ]
    },
    {
      "cell_type": "code",
      "metadata": {
        "colab": {
          "base_uri": "https://localhost:8080/"
        },
        "id": "bJ35hVTogpO0",
        "outputId": "4687f89b-ef52-42a7-a478-8fc36b1fbb70"
      },
      "source": [
        "# Try catch (Exception Handling)\n",
        "\n",
        "def divide(number1,number2):\n",
        "  ans = 0\n",
        "  try:\n",
        "    ans = number1//number2\n",
        "    print(ans)\n",
        "  except Exception as e:\n",
        "    print(e)\n",
        "  finally:\n",
        "    print('Done')\n",
        "\n",
        "divide(2,0)"
      ],
      "execution_count": null,
      "outputs": [
        {
          "output_type": "stream",
          "text": [
            "integer division or modulo by zero\n",
            "Done\n"
          ],
          "name": "stdout"
        }
      ]
    },
    {
      "cell_type": "code",
      "metadata": {
        "id": "N7AQL8vIlni1"
      },
      "source": [
        ""
      ],
      "execution_count": null,
      "outputs": []
    }
  ]
}