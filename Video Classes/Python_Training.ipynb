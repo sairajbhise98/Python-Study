{
  "nbformat": 4,
  "nbformat_minor": 0,
  "metadata": {
    "colab": {
      "name": "Python Training.ipynb",
      "provenance": [],
      "collapsed_sections": []
    },
    "kernelspec": {
      "name": "python3",
      "display_name": "Python 3"
    },
    "language_info": {
      "name": "python"
    }
  },
  "cells": [
    {
      "cell_type": "code",
      "metadata": {
        "id": "LVXg6HJAWYy1"
      },
      "source": [
        "# Python Training"
      ],
      "execution_count": 1,
      "outputs": []
    },
    {
      "cell_type": "code",
      "metadata": {
        "colab": {
          "base_uri": "https://localhost:8080/"
        },
        "id": "BlzTSRRXWgTk",
        "outputId": "0f49b20d-4ba0-4fe3-c8ab-d456a458ff89"
      },
      "source": [
        "# nested function\n",
        "\n",
        "def outer():\n",
        "  def inner():\n",
        "    print('Hi from inner')\n",
        "  inner()\n",
        "\n",
        "outer()"
      ],
      "execution_count": 40,
      "outputs": [
        {
          "output_type": "stream",
          "text": [
            "Hi from inner\n"
          ],
          "name": "stdout"
        }
      ]
    },
    {
      "cell_type": "code",
      "metadata": {
        "colab": {
          "base_uri": "https://localhost:8080/"
        },
        "id": "hhH3mDb5Xx_W",
        "outputId": "1dd6921e-4e09-498c-d379-4c92a67e6f58"
      },
      "source": [
        "# Args and Kwargs\n",
        "'''\n",
        "  *args is used when number of the input is unknown\n",
        "  *args converts input into tuple.\n",
        "'''\n",
        "def args_(*args):\n",
        "  for i in args:\n",
        "    print(i)\n",
        "\n",
        "args_('Sairaj', 'Raviraj', 'Pruthviraj')\n",
        "\n",
        "'''\n",
        "  **kwargs is used when we have key value pair\n",
        "  **kwargs converts input into dictionary\n",
        "'''\n",
        "\n",
        "def KwArgs(**kwargs):\n",
        "  print(kwargs['name'])\n",
        "\n",
        "KwArgs(name='Sairaj', lastname='Bhise')\n",
        "\n",
        "\n"
      ],
      "execution_count": 12,
      "outputs": [
        {
          "output_type": "stream",
          "text": [
            "Sairaj\n",
            "Raviraj\n",
            "Pruthviraj\n",
            "Sairaj\n"
          ],
          "name": "stdout"
        }
      ]
    },
    {
      "cell_type": "code",
      "metadata": {
        "colab": {
          "base_uri": "https://localhost:8080/"
        },
        "id": "RdAnbC9rXyMl",
        "outputId": "dee7b889-be0d-4685-f117-fe0ff4f0879d"
      },
      "source": [
        "# Map and Filter\n",
        "\n",
        "def _Square_(number):\n",
        "  return number*number\n",
        "\n",
        "l1 = [1,2,3,4,5,6,7,8]\n",
        "\n",
        "'''\n",
        "  Applies function to each element of the \n",
        "  array and return array of the same size\n",
        "'''\n",
        "\n",
        "# Map\n",
        "print(list(map(_Square_, l1)))\n",
        "\n",
        "def checkEven(number):\n",
        "  if number%2 == 0 : return number\n",
        "\n",
        "'''\n",
        "  Select only those element which satifies the condition provided in it\n",
        "'''\n",
        "# Filter\n",
        "print(list(filter(checkEven, l1)))"
      ],
      "execution_count": 25,
      "outputs": [
        {
          "output_type": "stream",
          "text": [
            "[1, 4, 9, 16, 25, 36, 49, 64]\n",
            "[2, 4, 6, 8]\n"
          ],
          "name": "stdout"
        }
      ]
    },
    {
      "cell_type": "code",
      "metadata": {
        "colab": {
          "base_uri": "https://localhost:8080/"
        },
        "id": "5FthcxZ-XyaG",
        "outputId": "ed34485a-98e6-412a-e393-c4908e959c74"
      },
      "source": [
        "# Lambda Function\n",
        "\n",
        "# Regular Function \n",
        "def returnSomething():\n",
        "  print('Hi')\n",
        "\n",
        "returnSomething()\n",
        "\n",
        "\n",
        "# Lambda Function\n",
        "\n",
        "returnSomething2 = lambda x : x*x\n",
        "\n",
        "print(returnSomething2(10))"
      ],
      "execution_count": 30,
      "outputs": [
        {
          "output_type": "stream",
          "text": [
            "Hi\n",
            "100\n"
          ],
          "name": "stdout"
        }
      ]
    },
    {
      "cell_type": "code",
      "metadata": {
        "colab": {
          "base_uri": "https://localhost:8080/"
        },
        "id": "Nxq3PY8sdIfc",
        "outputId": "276570a3-80ea-480c-f36c-ff606714fe46"
      },
      "source": [
        "# Decorator\n",
        "\n",
        "def decorate(func):\n",
        "  def inner():\n",
        "    print('~~~~~~~~~~~~~~~~~~~~~~~~')\n",
        "    func()\n",
        "  return inner()\n",
        "\n",
        "@decorate\n",
        "def d1():\n",
        "  print('Hi')\n",
        "\n",
        "@decorate\n",
        "def d2():\n",
        "  print('Sairaj')\n",
        "\n",
        "@decorate\n",
        "def d3():\n",
        "  print('you are best')"
      ],
      "execution_count": 47,
      "outputs": [
        {
          "output_type": "stream",
          "text": [
            "~~~~~~~~~~~~~~~~~~~~~~~~\n",
            "Hi\n",
            "~~~~~~~~~~~~~~~~~~~~~~~~\n",
            "Sairaj\n",
            "~~~~~~~~~~~~~~~~~~~~~~~~\n",
            "you are best\n"
          ],
          "name": "stdout"
        }
      ]
    },
    {
      "cell_type": "code",
      "metadata": {
        "id": "ReCnrxKkfxxw"
      },
      "source": [
        ""
      ],
      "execution_count": null,
      "outputs": []
    }
  ]
}